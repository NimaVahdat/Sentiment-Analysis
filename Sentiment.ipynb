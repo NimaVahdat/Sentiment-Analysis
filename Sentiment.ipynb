{
 "cells": [
  {
   "cell_type": "markdown",
   "id": "13f9535c",
   "metadata": {},
   "source": [
    "# Nima Vahdat 610397163"
   ]
  },
  {
   "cell_type": "markdown",
   "id": "085bf6eb",
   "metadata": {},
   "source": [
    "## Importing libraries"
   ]
  },
  {
   "cell_type": "code",
   "execution_count": 1,
   "id": "be8f644f",
   "metadata": {},
   "outputs": [],
   "source": [
    "import pandas as pd\n",
    "import nltk\n",
    "\n",
    "from sklearn.feature_extraction.text import TfidfVectorizer\n",
    "from sklearn.feature_extraction.text import CountVectorizer\n",
    "from sklearn.model_selection import ShuffleSplit, cross_val_score\n",
    "\n",
    "from sklearn.naive_bayes import MultinomialNB\n",
    "from sklearn.ensemble import RandomForestClassifier\n",
    "from sklearn.svm import SVC\n",
    "from sklearn.neural_network import MLPClassifier\n",
    "\n",
    "from nltk.stem import WordNetLemmatizer\n",
    "from autocorrect import Speller\n",
    "\n",
    "import matplotlib.pyplot as plt\n",
    "import seaborn as sns\n",
    "import pylab as pl "
   ]
  },
  {
   "cell_type": "markdown",
   "id": "85408673",
   "metadata": {},
   "source": [
    "## Cleaning data"
   ]
  },
  {
   "cell_type": "markdown",
   "id": "aee717cc",
   "metadata": {},
   "source": [
    "### We need to clean the data and normalize it\n",
    "1. Lower -> All letters must be lowercase so that the model will perform equally well.\n",
    "2. Only alphabet -> All characters should be alphabets or spaces.\n",
    "3. Spell Checking -> We should check and fix the spelling errors in the text\n",
    "5. Normalization -> I use the lemmatization method, which removes only inflectional endings and returns the dictionary form of each word. \n",
    "\n",
    "I have therefore defined a function that handles all of those things for us."
   ]
  },
  {
   "cell_type": "code",
   "execution_count": 2,
   "id": "fcfdbd98",
   "metadata": {},
   "outputs": [],
   "source": [
    "spell = Speller(lang='en')\n",
    "wordnet_lemmatizer = WordNetLemmatizer()\n",
    "\n",
    "def text_cleaner(text):\n",
    "    \n",
    "    # The letters become lowercase\n",
    "    text = text.lower()\n",
    "    \n",
    "    # Only save alphabetical characters\n",
    "    cleaned_text = ''\n",
    "    for char in text:\n",
    "        if (char.isalpha()) or (char == ' '):\n",
    "            cleaned_text += char\n",
    "    \n",
    "    # Correct Spelling\n",
    "    cleaned_text = spell(cleaned_text)\n",
    "    \n",
    "    # Normalization\n",
    "    lemmatized_word = [wordnet_lemmatizer.lemmatize(word)for word in nltk.word_tokenize(text)]\n",
    "    cleaned_text = \" \".join(lemmatized_word)\n",
    "\n",
    "    return cleaned_text"
   ]
  },
  {
   "cell_type": "markdown",
   "id": "685504b5",
   "metadata": {},
   "source": [
    "## Vectorizing\n",
    "I will use two methods for vectorizing and compare their results on different classification methods\n",
    "\n",
    "1. CountVectorizer: Convert a collection of text documents to a matrix of token counts.\n",
    "2. TfidfVectorizer: Convert a collection of raw documents to a matrix of TF-IDF features\n",
    "\n"
   ]
  },
  {
   "cell_type": "code",
   "execution_count": 3,
   "id": "f378afa6",
   "metadata": {},
   "outputs": [],
   "source": [
    "# Making vectorizers\n",
    "count_vectorizer = CountVectorizer(analyzer = \"word\") \n",
    "tfidf_vectorizer = TfidfVectorizer(analyzer = \"word\")"
   ]
  },
  {
   "cell_type": "markdown",
   "id": "12703116",
   "metadata": {},
   "source": [
    "The following function gets a classification model and gives us the results.\n",
    "For evaluating models we use 10-Fold Cross Validation."
   ]
  },
  {
   "cell_type": "code",
   "execution_count": 4,
   "id": "8a2b322a",
   "metadata": {},
   "outputs": [],
   "source": [
    "vectorizers = [count_vectorizer, tfidf_vectorizer]\n",
    "vectorizers_names = ['Count Vectorizer', 'TF-IDF Vectorizer']\n",
    "\n",
    "def train(clf, clf_name, df):\n",
    "    results = [0, 0]\n",
    "    for i in range(len(vectorizers)):\n",
    "        print(vectorizers_names[i])\n",
    "        vectorizer = vectorizers[i]\n",
    "        \n",
    "        # Vectorizing\n",
    "        X = vectorizer.fit_transform(df['text'])\n",
    "        y = df['sentiment']\n",
    "        \n",
    "        # Seprating Dataset for 10-Fold Cross Validation\n",
    "        cv = ShuffleSplit(10, test_size=0.2, random_state=0)\n",
    "        \n",
    "        # Feeding data into model and getting mean\n",
    "        results[i] = cross_val_score(clf, X, y, cv=cv).mean()\n",
    "        \n",
    "        print(clf_name+'_result:', results[i])\n",
    "        \n",
    "    return results "
   ]
  },
  {
   "cell_type": "markdown",
   "id": "3ff998ac",
   "metadata": {},
   "source": [
    "# SandersPosNeg\n",
    "\n",
    "## Importing dataset SandersPosNeg.csv\n",
    "\n",
    "We import the dataset and rename the columns here"
   ]
  },
  {
   "cell_type": "code",
   "execution_count": 5,
   "id": "9ebe1d7e",
   "metadata": {},
   "outputs": [
    {
     "data": {
      "text/html": [
       "<div>\n",
       "<style scoped>\n",
       "    .dataframe tbody tr th:only-of-type {\n",
       "        vertical-align: middle;\n",
       "    }\n",
       "\n",
       "    .dataframe tbody tr th {\n",
       "        vertical-align: top;\n",
       "    }\n",
       "\n",
       "    .dataframe thead th {\n",
       "        text-align: right;\n",
       "    }\n",
       "</style>\n",
       "<table border=\"1\" class=\"dataframe\">\n",
       "  <thead>\n",
       "    <tr style=\"text-align: right;\">\n",
       "      <th></th>\n",
       "      <th>sentiment</th>\n",
       "      <th>text</th>\n",
       "    </tr>\n",
       "  </thead>\n",
       "  <tbody>\n",
       "    <tr>\n",
       "      <th>0</th>\n",
       "      <td>0</td>\n",
       "      <td>RT @cjwallace03: So apparently @apple put MB c...</td>\n",
       "    </tr>\n",
       "    <tr>\n",
       "      <th>1</th>\n",
       "      <td>0</td>\n",
       "      <td>RT @Jewelz2611 @mashable @apple iphones r 2 ex...</td>\n",
       "    </tr>\n",
       "    <tr>\n",
       "      <th>2</th>\n",
       "      <td>0</td>\n",
       "      <td>@mashable @apple iphones r 2 expensive. Most w...</td>\n",
       "    </tr>\n",
       "    <tr>\n",
       "      <th>3</th>\n",
       "      <td>0</td>\n",
       "      <td>THiS IS WHAT WiLL KiLL APPLE http://t.co/72Jw4...</td>\n",
       "    </tr>\n",
       "    <tr>\n",
       "      <th>4</th>\n",
       "      <td>4</td>\n",
       "      <td>Now all @Apple has to do is get swype on the i...</td>\n",
       "    </tr>\n",
       "  </tbody>\n",
       "</table>\n",
       "</div>"
      ],
      "text/plain": [
       "   sentiment                                               text\n",
       "0          0  RT @cjwallace03: So apparently @apple put MB c...\n",
       "1          0  RT @Jewelz2611 @mashable @apple iphones r 2 ex...\n",
       "2          0  @mashable @apple iphones r 2 expensive. Most w...\n",
       "3          0  THiS IS WHAT WiLL KiLL APPLE http://t.co/72Jw4...\n",
       "4          4  Now all @Apple has to do is get swype on the i..."
      ]
     },
     "execution_count": 5,
     "metadata": {},
     "output_type": "execute_result"
    }
   ],
   "source": [
    "df_san = pd.read_csv(\"SandersPosNeg.csv\", header=None, sep=\"\\t\")\n",
    "df_san.rename(columns={0: \"sentiment\", 1: \"text\"}, inplace=True)\n",
    "df_san.head()"
   ]
  },
  {
   "cell_type": "markdown",
   "id": "e862e307",
   "metadata": {},
   "source": [
    "Now let's get the information about the dataset."
   ]
  },
  {
   "cell_type": "code",
   "execution_count": 6,
   "id": "056d6689",
   "metadata": {
    "scrolled": true
   },
   "outputs": [
    {
     "name": "stdout",
     "output_type": "stream",
     "text": [
      "<class 'pandas.core.frame.DataFrame'>\n",
      "RangeIndex: 1224 entries, 0 to 1223\n",
      "Data columns (total 2 columns):\n",
      " #   Column     Non-Null Count  Dtype \n",
      "---  ------     --------------  ----- \n",
      " 0   sentiment  1224 non-null   int64 \n",
      " 1   text       1224 non-null   object\n",
      "dtypes: int64(1), object(1)\n",
      "memory usage: 19.2+ KB\n"
     ]
    }
   ],
   "source": [
    "df_san.info()"
   ]
  },
  {
   "cell_type": "markdown",
   "id": "0cc14a36",
   "metadata": {},
   "source": [
    "## Visualisation on data"
   ]
  },
  {
   "cell_type": "code",
   "execution_count": 7,
   "id": "e01254bd",
   "metadata": {},
   "outputs": [
    {
     "data": {
      "text/plain": [
       "<AxesSubplot:ylabel='Frequency'>"
      ]
     },
     "execution_count": 7,
     "metadata": {},
     "output_type": "execute_result"
    },
    {
     "data": {
      "image/png": "[encoded data removed]",
      "text/plain": [
       "<Figure size 432x288 with 1 Axes>"
      ]
     },
     "metadata": {
      "needs_background": "light"
     },
     "output_type": "display_data"
    }
   ],
   "source": [
    "df_san['length'] = df_san['text'].apply(len)\n",
    "df_san['length'].plot(kind = 'hist' , bins = 50, color = 'green') "
   ]
  },
  {
   "cell_type": "code",
   "execution_count": 8,
   "id": "c3e35377",
   "metadata": {},
   "outputs": [
    {
     "data": {
      "text/plain": [
       "Text(0.5, 0.98, 'Length via each Sentiment')"
      ]
     },
     "execution_count": 8,
     "metadata": {},
     "output_type": "execute_result"
    },
    {
     "data": {
      "image/png": "[encoded data removed]",
      "text/plain": [
       "<Figure size 720x216 with 2 Axes>"
      ]
     },
     "metadata": {
      "needs_background": "light"
     },
     "output_type": "display_data"
    }
   ],
   "source": [
    "ax = df_san.hist(column = 'length', by = 'sentiment', bins = 50 , figsize = (10, 3), color = 'purple');\n",
    "pl.suptitle('Length via each Sentiment')"
   ]
  },
  {
   "cell_type": "markdown",
   "id": "cb77baee",
   "metadata": {},
   "source": [
    "We can see from the results above that negative people tend to write longer tweets than someone who is positive."
   ]
  },
  {
   "cell_type": "markdown",
   "id": "1155b88b",
   "metadata": {},
   "source": [
    "We now apply the function to the data"
   ]
  },
  {
   "cell_type": "code",
   "execution_count": 9,
   "id": "b9847264",
   "metadata": {},
   "outputs": [],
   "source": [
    "# Cleaning text\n",
    "df_san[\"text\"] = df_san[\"text\"].apply(text_cleaner)"
   ]
  },
  {
   "cell_type": "markdown",
   "id": "e0713324",
   "metadata": {},
   "source": [
    "# Naive Bayes"
   ]
  },
  {
   "cell_type": "code",
   "execution_count": 10,
   "id": "3503f993",
   "metadata": {},
   "outputs": [
    {
     "name": "stdout",
     "output_type": "stream",
     "text": [
      "Count Vectorizer\n",
      "NaiveBayes_result: 0.8175510204081633\n",
      "TF-IDF Vectorizer\n",
      "NaiveBayes_result: 0.8281632653061223\n"
     ]
    }
   ],
   "source": [
    "clf = MultinomialNB(alpha=0.49)\n",
    "nb_results = train(clf, 'NaiveBayes', df_san)"
   ]
  },
  {
   "cell_type": "markdown",
   "id": "e5182688",
   "metadata": {},
   "source": [
    "# Random Forest"
   ]
  },
  {
   "cell_type": "code",
   "execution_count": 11,
   "id": "5f80d211",
   "metadata": {},
   "outputs": [
    {
     "name": "stdout",
     "output_type": "stream",
     "text": [
      "Count Vectorizer\n",
      "RandomForest_result: 0.8200000000000001\n",
      "TF-IDF Vectorizer\n",
      "RandomForest_result: 0.796734693877551\n"
     ]
    }
   ],
   "source": [
    "clf = RandomForestClassifier(400, criterion='entropy')\n",
    "rf_results = train(clf, 'RandomForest', df_san)"
   ]
  },
  {
   "cell_type": "markdown",
   "id": "2b8fcb0c",
   "metadata": {},
   "source": [
    "# SVM"
   ]
  },
  {
   "cell_type": "code",
   "execution_count": 12,
   "id": "ea9755db",
   "metadata": {},
   "outputs": [
    {
     "name": "stdout",
     "output_type": "stream",
     "text": [
      "Count Vectorizer\n",
      "SVM_result: 0.8216326530612245\n",
      "TF-IDF Vectorizer\n",
      "SVM_result: 0.8351020408163266\n"
     ]
    }
   ],
   "source": [
    "clf = SVC(kernel='linear')\n",
    "svm_results = train(clf, 'SVM', df_san)"
   ]
  },
  {
   "cell_type": "markdown",
   "id": "a7a15057",
   "metadata": {},
   "source": [
    "# MLP"
   ]
  },
  {
   "cell_type": "code",
   "execution_count": 13,
   "id": "0034c565",
   "metadata": {},
   "outputs": [
    {
     "name": "stdout",
     "output_type": "stream",
     "text": [
      "Count Vectorizer\n",
      "MLP_result: 0.8244897959183675\n",
      "TF-IDF Vectorizer\n",
      "MLP_result: 0.8379591836734696\n"
     ]
    }
   ],
   "source": [
    "clf = MLPClassifier(solver='lbfgs', alpha=0.4, learning_rate='invscaling',\n",
    "                    hidden_layer_sizes=(110), random_state=1)\n",
    "mlp_results = train(clf, 'MLP', df_san)"
   ]
  },
  {
   "cell_type": "markdown",
   "id": "1bf7a9e6",
   "metadata": {},
   "source": [
    "# Comparing\n",
    "We now compare the results of different classification methods."
   ]
  },
  {
   "cell_type": "code",
   "execution_count": 14,
   "id": "6d114cb0",
   "metadata": {},
   "outputs": [
    {
     "data": {
      "text/plain": [
       "<BarContainer object of 2 artists>"
      ]
     },
     "execution_count": 14,
     "metadata": {},
     "output_type": "execute_result"
    },
    {
     "data": {
      "image/png": "[encoded data removed]",
      "text/plain": [
       "<Figure size 576x432 with 1 Axes>"
      ]
     },
     "metadata": {
      "needs_background": "light"
     },
     "output_type": "display_data"
    }
   ],
   "source": [
    "import numpy as np\n",
    "data = [nb_results, rf_results, svm_results, mlp_results]\n",
    "\n",
    "X = np.arange(2)\n",
    "fig = plt.figure(figsize=(8, 6))\n",
    "ax = fig.add_axes([0.75,0.75,0.75,0.75])\n",
    "ax.bar(X + 0.0, data[0], color = 'blue', width = 0.1)\n",
    "ax.bar(X + 0.1, data[1], color = 'green', width = 0.1)\n",
    "ax.bar(X + 0.2, data[2], color = 'red', width = 0.1)\n",
    "ax.bar(X + 0.3, data[3], color = 'purple', width = 0.1)"
   ]
  },
  {
   "cell_type": "markdown",
   "id": "2248c27f",
   "metadata": {},
   "source": [
    "# OMD\n",
    "## Importing dataset OMD.csv\n",
    "We import the dataset and rename the columns here"
   ]
  },
  {
   "cell_type": "code",
   "execution_count": 15,
   "id": "b65ee04a",
   "metadata": {},
   "outputs": [
    {
     "data": {
      "text/html": [
       "<div>\n",
       "<style scoped>\n",
       "    .dataframe tbody tr th:only-of-type {\n",
       "        vertical-align: middle;\n",
       "    }\n",
       "\n",
       "    .dataframe tbody tr th {\n",
       "        vertical-align: top;\n",
       "    }\n",
       "\n",
       "    .dataframe thead th {\n",
       "        text-align: right;\n",
       "    }\n",
       "</style>\n",
       "<table border=\"1\" class=\"dataframe\">\n",
       "  <thead>\n",
       "    <tr style=\"text-align: right;\">\n",
       "      <th></th>\n",
       "      <th>sentiment</th>\n",
       "      <th>text</th>\n",
       "    </tr>\n",
       "  </thead>\n",
       "  <tbody>\n",
       "    <tr>\n",
       "      <th>0</th>\n",
       "      <td>0</td>\n",
       "      <td>Watching by myself  #tweetdebate Not drinking ...</td>\n",
       "    </tr>\n",
       "    <tr>\n",
       "      <th>1</th>\n",
       "      <td>0</td>\n",
       "      <td>@ahg3 @MichDot Yeah, slime was actually my sec...</td>\n",
       "    </tr>\n",
       "    <tr>\n",
       "      <th>2</th>\n",
       "      <td>0</td>\n",
       "      <td>Preparing to have a heart attack #tweetdebate,</td>\n",
       "    </tr>\n",
       "    <tr>\n",
       "      <th>3</th>\n",
       "      <td>0</td>\n",
       "      <td>no debate moderators under 50, sorry  #tweetde...</td>\n",
       "    </tr>\n",
       "    <tr>\n",
       "      <th>4</th>\n",
       "      <td>0</td>\n",
       "      <td>@current Now staring at black screen on http:/...</td>\n",
       "    </tr>\n",
       "  </tbody>\n",
       "</table>\n",
       "</div>"
      ],
      "text/plain": [
       "  sentiment                                               text\n",
       "0         0  Watching by myself  #tweetdebate Not drinking ...\n",
       "1         0  @ahg3 @MichDot Yeah, slime was actually my sec...\n",
       "2         0     Preparing to have a heart attack #tweetdebate,\n",
       "3         0  no debate moderators under 50, sorry  #tweetde...\n",
       "4         0  @current Now staring at black screen on http:/..."
      ]
     },
     "execution_count": 15,
     "metadata": {},
     "output_type": "execute_result"
    }
   ],
   "source": [
    "df_omd = pd.read_csv(\"OMD.csv\", header=None, sep=\"\\t\", encoding='mac_roman')\n",
    "df_omd = df_omd[0].str.split(',', n=1, expand=True)\n",
    "df_omd.rename(columns={0: \"sentiment\", 1: \"text\"}, inplace=True)\n",
    "df_omd.head()"
   ]
  },
  {
   "cell_type": "markdown",
   "id": "13681314",
   "metadata": {},
   "source": [
    "Now let's get the information about the dataset."
   ]
  },
  {
   "cell_type": "code",
   "execution_count": 16,
   "id": "818470ab",
   "metadata": {},
   "outputs": [
    {
     "name": "stdout",
     "output_type": "stream",
     "text": [
      "<class 'pandas.core.frame.DataFrame'>\n",
      "RangeIndex: 1906 entries, 0 to 1905\n",
      "Data columns (total 2 columns):\n",
      " #   Column     Non-Null Count  Dtype \n",
      "---  ------     --------------  ----- \n",
      " 0   sentiment  1906 non-null   object\n",
      " 1   text       1906 non-null   object\n",
      "dtypes: object(2)\n",
      "memory usage: 29.9+ KB\n"
     ]
    }
   ],
   "source": [
    "df_omd.info()"
   ]
  },
  {
   "cell_type": "markdown",
   "id": "c166585f",
   "metadata": {},
   "source": [
    "## Visualisation on data"
   ]
  },
  {
   "cell_type": "code",
   "execution_count": 17,
   "id": "8a6a7338",
   "metadata": {},
   "outputs": [
    {
     "data": {
      "text/plain": [
       "<AxesSubplot:ylabel='Frequency'>"
      ]
     },
     "execution_count": 17,
     "metadata": {},
     "output_type": "execute_result"
    },
    {
     "data": {
      "image/png": "[encoded data removed]",
      "text/plain": [
       "<Figure size 432x288 with 1 Axes>"
      ]
     },
     "metadata": {
      "needs_background": "light"
     },
     "output_type": "display_data"
    }
   ],
   "source": [
    "df_omd['length'] = df_omd['text'].apply(len)\n",
    "df_omd['length'].plot(kind = 'hist' , bins = 50, color = 'green') "
   ]
  },
  {
   "cell_type": "code",
   "execution_count": 18,
   "id": "25bbc0e7",
   "metadata": {},
   "outputs": [
    {
     "data": {
      "text/plain": [
       "Text(0.5, 0.98, 'Length via each Sentiment')"
      ]
     },
     "execution_count": 18,
     "metadata": {},
     "output_type": "execute_result"
    },
    {
     "data": {
      "image/png": "[encoded data removed]",
      "text/plain": [
       "<Figure size 720x216 with 2 Axes>"
      ]
     },
     "metadata": {
      "needs_background": "light"
     },
     "output_type": "display_data"
    }
   ],
   "source": [
    "ax = df_omd.hist(column = 'length', by = 'sentiment', bins = 50 , figsize = (10, 3), color = 'purple');\n",
    "pl.suptitle('Length via each Sentiment')"
   ]
  },
  {
   "cell_type": "markdown",
   "id": "018c73ce",
   "metadata": {},
   "source": [
    "We now apply the function to the data"
   ]
  },
  {
   "cell_type": "code",
   "execution_count": 19,
   "id": "e18b64a4",
   "metadata": {},
   "outputs": [],
   "source": [
    "# Cleaning text\n",
    "df_omd[\"text\"] = df_omd[\"text\"].apply(text_cleaner)"
   ]
  },
  {
   "cell_type": "markdown",
   "id": "0dc78353",
   "metadata": {},
   "source": [
    "# Naive Bayes"
   ]
  },
  {
   "cell_type": "code",
   "execution_count": 20,
   "id": "a21215c8",
   "metadata": {},
   "outputs": [
    {
     "name": "stdout",
     "output_type": "stream",
     "text": [
      "Count Vectorizer\n",
      "NaiveBayes_result: 0.7732984293193716\n",
      "TF-IDF Vectorizer\n",
      "NaiveBayes_result: 0.7659685863874346\n"
     ]
    }
   ],
   "source": [
    "clf = MultinomialNB(alpha=0.48)\n",
    "nb_results = train(clf, 'NaiveBayes', df_omd)"
   ]
  },
  {
   "cell_type": "markdown",
   "id": "791a65e7",
   "metadata": {},
   "source": [
    "# Random Forest"
   ]
  },
  {
   "cell_type": "code",
   "execution_count": 21,
   "id": "6f67a1d9",
   "metadata": {},
   "outputs": [
    {
     "name": "stdout",
     "output_type": "stream",
     "text": [
      "Count Vectorizer\n",
      "RandomForest_result: 0.7858638743455498\n",
      "TF-IDF Vectorizer\n",
      "RandomForest_result: 0.769371727748691\n"
     ]
    }
   ],
   "source": [
    "clf = RandomForestClassifier(250, criterion='entropy')\n",
    "rf_results = train(clf, 'RandomForest', df_omd)"
   ]
  },
  {
   "cell_type": "markdown",
   "id": "5681de92",
   "metadata": {},
   "source": [
    "# SVM"
   ]
  },
  {
   "cell_type": "code",
   "execution_count": 22,
   "id": "7972fb49",
   "metadata": {},
   "outputs": [
    {
     "name": "stdout",
     "output_type": "stream",
     "text": [
      "Count Vectorizer\n",
      "SVM_result: 0.7693717277486911\n",
      "TF-IDF Vectorizer\n",
      "SVM_result: 0.7971204188481675\n"
     ]
    }
   ],
   "source": [
    "clf = SVC(kernel='linear')\n",
    "svm_results = train(clf, 'SVM', df_omd)"
   ]
  },
  {
   "cell_type": "markdown",
   "id": "b6a9887f",
   "metadata": {},
   "source": [
    "# MLP"
   ]
  },
  {
   "cell_type": "code",
   "execution_count": 23,
   "id": "b1f21123",
   "metadata": {},
   "outputs": [
    {
     "name": "stdout",
     "output_type": "stream",
     "text": [
      "Count Vectorizer\n",
      "MLP_result: 0.7801047120418849\n",
      "TF-IDF Vectorizer\n",
      "MLP_result: 0.7821989528795812\n"
     ]
    }
   ],
   "source": [
    "clf = MLPClassifier(solver='lbfgs', alpha=0.2, learning_rate='invscaling',\n",
    "                    hidden_layer_sizes=(85), random_state=1)\n",
    "mlp_results = train(clf, 'MLP', df_omd)"
   ]
  },
  {
   "cell_type": "markdown",
   "id": "7767d536",
   "metadata": {},
   "source": [
    "# Comparing\n",
    "We now compare the results of different classification methods."
   ]
  },
  {
   "cell_type": "code",
   "execution_count": 24,
   "id": "bcd49464",
   "metadata": {},
   "outputs": [
    {
     "data": {
      "text/plain": [
       "<BarContainer object of 2 artists>"
      ]
     },
     "execution_count": 24,
     "metadata": {},
     "output_type": "execute_result"
    },
    {
     "data": {
      "image/png": "[encoded data removed]",
      "text/plain": [
       "<Figure size 576x432 with 1 Axes>"
      ]
     },
     "metadata": {
      "needs_background": "light"
     },
     "output_type": "display_data"
    }
   ],
   "source": [
    "import numpy as np\n",
    "data = [nb_results, rf_results, svm_results, mlp_results]\n",
    "\n",
    "X = np.arange(2)\n",
    "fig = plt.figure(figsize=(8, 6))\n",
    "ax = fig.add_axes([0.75,0.75,0.75,0.75])\n",
    "ax.bar(X + 0.0, data[0], color = 'blue', width = 0.1)\n",
    "ax.bar(X + 0.1, data[1], color = 'green', width = 0.1)\n",
    "ax.bar(X + 0.2, data[2], color = 'red', width = 0.1)\n",
    "ax.bar(X + 0.3, data[3], color = 'purple', width = 0.1)"
   ]
  }
 ],
 "metadata": {
  "kernelspec": {
   "display_name": "Python 3 (ipykernel)",
   "language": "python",
   "name": "python3"
  },
  "language_info": {
   "codemirror_mode": {
    "name": "ipython",
    "version": 3
   },
   "file_extension": ".py",
   "mimetype": "text/x-python",
   "name": "python",
   "nbconvert_exporter": "python",
   "pygments_lexer": "ipython3",
   "version": "3.9.7"
  }
 },
 "nbformat": 4,
 "nbformat_minor": 5
}
